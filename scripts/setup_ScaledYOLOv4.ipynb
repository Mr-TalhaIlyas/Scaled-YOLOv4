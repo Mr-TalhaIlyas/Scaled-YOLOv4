{
 "cells": [
  {
   "cell_type": "code",
   "execution_count": 1,
   "metadata": {},
   "outputs": [
    {
     "name": "stdout",
     "output_type": "stream",
     "text": [
      "Cloning into 'ScaledYOLOv4'...\n",
      "remote: Enumerating objects: 128, done.\u001b[K\n",
      "remote: Total 128 (delta 0), reused 0 (delta 0), pack-reused 128\u001b[K\n",
      "Receiving objects: 100% (128/128), 338.47 KiB | 973.00 KiB/s, done.\n",
      "Resolving deltas: 100% (52/52), done.\n",
      "/home/user01/data_ssd/Talha/yolo/ScaledYOLOv4\n",
      "Branch 'yolov4-large' set up to track remote branch 'yolov4-large' from 'origin'.\n",
      "Switched to a new branch 'yolov4-large'\n"
     ]
    }
   ],
   "source": [
    "# clone Scaled_YOLOv4\n",
    "!git clone https://github.com/roboflow-ai/ScaledYOLOv4.git  # clone repo\n",
    "%cd /home/user01/data_ssd/Talha/yolo/ScaledYOLOv4/\n",
    "#checkout the yolov4-large branch\n",
    "!git checkout yolov4-large"
   ]
  },
  {
   "cell_type": "code",
   "execution_count": 3,
   "metadata": {},
   "outputs": [
    {
     "name": "stdout",
     "output_type": "stream",
     "text": [
      "/home/user01/data_ssd/Talha/yolo\n",
      "Cloning into 'mish-cuda'...\n",
      "remote: Enumerating objects: 195, done.\u001b[K\n",
      "remote: Counting objects: 100% (88/88), done.\u001b[K\n",
      "remote: Compressing objects: 100% (75/75), done.\u001b[K\n",
      "remote: Total 195 (delta 7), reused 79 (delta 3), pack-reused 107\u001b[K\n",
      "Receiving objects: 100% (195/195), 208.77 KiB | 9.94 MiB/s, done.\n",
      "Resolving deltas: 100% (56/56), done.\n"
     ]
    }
   ],
   "source": [
    "%cd /home/user01/data_ssd/Talha/yolo/\n",
    "!git clone https://github.com/JunnYu/mish-cuda"
   ]
  },
  {
   "cell_type": "code",
   "execution_count": 1,
   "metadata": {},
   "outputs": [
    {
     "name": "stdout",
     "output_type": "stream",
     "text": [
      "/home/user01/data_ssd/Talha/yolo/mish-cuda\n",
      "/home/user01/anaconda3/envs/yolo5/lib/python3.6/distutils/extension.py:131: UserWarning: Unknown Extension options: 'headers'\n",
      "  warnings.warn(msg)\n",
      "running build\n",
      "running build_py\n",
      "running egg_info\n",
      "writing src/mish_cuda.egg-info/PKG-INFO\n",
      "writing dependency_links to src/mish_cuda.egg-info/dependency_links.txt\n",
      "writing requirements to src/mish_cuda.egg-info/requires.txt\n",
      "writing top-level names to src/mish_cuda.egg-info/top_level.txt\n",
      "/home/user01/anaconda3/envs/yolo5/lib/python3.6/site-packages/torch/utils/cpp_extension.py:369: UserWarning: Attempted to use ninja as the BuildExtension backend but we could not find ninja.. Falling back to using the slow distutils backend.\n",
      "  warnings.warn(msg.format('we could not find ninja.'))\n",
      "reading manifest file 'src/mish_cuda.egg-info/SOURCES.txt'\n",
      "writing manifest file 'src/mish_cuda.egg-info/SOURCES.txt'\n",
      "running build_ext\n",
      "building 'mish_cuda._C' extension\n",
      "gcc -pthread -B /home/user01/anaconda3/envs/yolo5/compiler_compat -Wl,--sysroot=/ -Wsign-compare -DNDEBUG -g -fwrapv -O3 -Wall -Wstrict-prototypes -fPIC -I/home/user01/anaconda3/envs/yolo5/lib/python3.6/site-packages/torch/include -I/home/user01/anaconda3/envs/yolo5/lib/python3.6/site-packages/torch/include/torch/csrc/api/include -I/home/user01/anaconda3/envs/yolo5/lib/python3.6/site-packages/torch/include/TH -I/home/user01/anaconda3/envs/yolo5/lib/python3.6/site-packages/torch/include/THC -I/usr/local/cuda-10.1/include -I/home/user01/anaconda3/envs/yolo5/include/python3.6m -c csrc/cpu/mish_cpu.cpp -o build/temp.linux-x86_64-3.6/csrc/cpu/mish_cpu.o -DTORCH_API_INCLUDE_EXTENSION_H -DPYBIND11_COMPILER_TYPE=\"_gcc\" -DPYBIND11_STDLIB=\"_libstdcpp\" -DPYBIND11_BUILD_ABI=\"_cxxabi1011\" -DTORCH_EXTENSION_NAME=_C -D_GLIBCXX_USE_CXX11_ABI=0 -std=c++14\n",
      "\u001b[01m\u001b[Kcc1plus:\u001b[m\u001b[K \u001b[01;35m\u001b[Kwarning: \u001b[m\u001b[Kcommand line option ‘\u001b[01m\u001b[K-Wstrict-prototypes\u001b[m\u001b[K’ is valid for C/ObjC but not for C++\n",
      "In file included from \u001b[01m\u001b[K/home/user01/anaconda3/envs/yolo5/lib/python3.6/site-packages/torch/include/ATen/Parallel.h:140:0\u001b[m\u001b[K,\n",
      "                 from \u001b[01m\u001b[K/home/user01/anaconda3/envs/yolo5/lib/python3.6/site-packages/torch/include/ATen/CPUApplyUtils.h:3\u001b[m\u001b[K,\n",
      "                 from \u001b[01m\u001b[Kcsrc/cpu/mish_cpu.cpp:3\u001b[m\u001b[K:\n",
      "\u001b[01m\u001b[K/home/user01/anaconda3/envs/yolo5/lib/python3.6/site-packages/torch/include/ATen/ParallelOpenMP.h:83:0:\u001b[m\u001b[K \u001b[01;35m\u001b[Kwarning: \u001b[m\u001b[Kignoring #pragma omp parallel [\u001b[01;35m\u001b[K-Wunknown-pragmas\u001b[m\u001b[K]\n",
      " #pragma omp parallel for if ((end - begin) >= grain_size)\n",
      " \n",
      "gcc -pthread -B /home/user01/anaconda3/envs/yolo5/compiler_compat -Wl,--sysroot=/ -Wsign-compare -DNDEBUG -g -fwrapv -O3 -Wall -Wstrict-prototypes -fPIC -I/home/user01/anaconda3/envs/yolo5/lib/python3.6/site-packages/torch/include -I/home/user01/anaconda3/envs/yolo5/lib/python3.6/site-packages/torch/include/torch/csrc/api/include -I/home/user01/anaconda3/envs/yolo5/lib/python3.6/site-packages/torch/include/TH -I/home/user01/anaconda3/envs/yolo5/lib/python3.6/site-packages/torch/include/THC -I/usr/local/cuda-10.1/include -I/home/user01/anaconda3/envs/yolo5/include/python3.6m -c csrc/cuda/mish_cuda.cpp -o build/temp.linux-x86_64-3.6/csrc/cuda/mish_cuda.o -DTORCH_API_INCLUDE_EXTENSION_H -DPYBIND11_COMPILER_TYPE=\"_gcc\" -DPYBIND11_STDLIB=\"_libstdcpp\" -DPYBIND11_BUILD_ABI=\"_cxxabi1011\" -DTORCH_EXTENSION_NAME=_C -D_GLIBCXX_USE_CXX11_ABI=0 -std=c++14\n",
      "\u001b[01m\u001b[Kcc1plus:\u001b[m\u001b[K \u001b[01;35m\u001b[Kwarning: \u001b[m\u001b[Kcommand line option ‘\u001b[01m\u001b[K-Wstrict-prototypes\u001b[m\u001b[K’ is valid for C/ObjC but not for C++\n",
      "In file included from \u001b[01m\u001b[K/home/user01/anaconda3/envs/yolo5/lib/python3.6/site-packages/torch/include/ATen/Parallel.h:140:0\u001b[m\u001b[K,\n",
      "                 from \u001b[01m\u001b[K/home/user01/anaconda3/envs/yolo5/lib/python3.6/site-packages/torch/include/torch/csrc/api/include/torch/utils.h:3\u001b[m\u001b[K,\n",
      "                 from \u001b[01m\u001b[K/home/user01/anaconda3/envs/yolo5/lib/python3.6/site-packages/torch/include/torch/csrc/api/include/torch/nn/cloneable.h:5\u001b[m\u001b[K,\n",
      "                 from \u001b[01m\u001b[K/home/user01/anaconda3/envs/yolo5/lib/python3.6/site-packages/torch/include/torch/csrc/api/include/torch/nn.h:3\u001b[m\u001b[K,\n",
      "                 from \u001b[01m\u001b[K/home/user01/anaconda3/envs/yolo5/lib/python3.6/site-packages/torch/include/torch/csrc/api/include/torch/all.h:13\u001b[m\u001b[K,\n",
      "                 from \u001b[01m\u001b[K/home/user01/anaconda3/envs/yolo5/lib/python3.6/site-packages/torch/include/torch/extension.h:4\u001b[m\u001b[K,\n",
      "                 from \u001b[01m\u001b[Kcsrc/cuda/mish_cuda.cpp:2\u001b[m\u001b[K:\n",
      "\u001b[01m\u001b[K/home/user01/anaconda3/envs/yolo5/lib/python3.6/site-packages/torch/include/ATen/ParallelOpenMP.h:83:0:\u001b[m\u001b[K \u001b[01;35m\u001b[Kwarning: \u001b[m\u001b[Kignoring #pragma omp parallel [\u001b[01;35m\u001b[K-Wunknown-pragmas\u001b[m\u001b[K]\n",
      " #pragma omp parallel for if ((end - begin) >= grain_size)\n",
      " \n",
      "/usr/local/cuda-10.1/bin/nvcc -I/home/user01/anaconda3/envs/yolo5/lib/python3.6/site-packages/torch/include -I/home/user01/anaconda3/envs/yolo5/lib/python3.6/site-packages/torch/include/torch/csrc/api/include -I/home/user01/anaconda3/envs/yolo5/lib/python3.6/site-packages/torch/include/TH -I/home/user01/anaconda3/envs/yolo5/lib/python3.6/site-packages/torch/include/THC -I/usr/local/cuda-10.1/include -I/home/user01/anaconda3/envs/yolo5/include/python3.6m -c csrc/cuda/mish_kernel.cu -o build/temp.linux-x86_64-3.6/csrc/cuda/mish_kernel.o -D__CUDA_NO_HALF_OPERATORS__ -D__CUDA_NO_HALF_CONVERSIONS__ -D__CUDA_NO_BFLOAT16_CONVERSIONS__ -D__CUDA_NO_HALF2_OPERATORS__ --expt-relaxed-constexpr --compiler-options '-fPIC' --expt-extended-lambda -DTORCH_API_INCLUDE_EXTENSION_H -DPYBIND11_COMPILER_TYPE=\"_gcc\" -DPYBIND11_STDLIB=\"_libstdcpp\" -DPYBIND11_BUILD_ABI=\"_cxxabi1011\" -DTORCH_EXTENSION_NAME=_C -D_GLIBCXX_USE_CXX11_ABI=0 -gencode=arch=compute_52,code=sm_52 -gencode=arch=compute_70,code=compute_70 -gencode=arch=compute_70,code=sm_70 -std=c++14\n",
      "g++ -pthread -shared -B /home/user01/anaconda3/envs/yolo5/compiler_compat -L/home/user01/anaconda3/envs/yolo5/lib -Wl,-rpath=/home/user01/anaconda3/envs/yolo5/lib -Wl,--no-as-needed -Wl,--sysroot=/ build/temp.linux-x86_64-3.6/csrc/cpu/mish_cpu.o build/temp.linux-x86_64-3.6/csrc/cuda/mish_cuda.o build/temp.linux-x86_64-3.6/csrc/cuda/mish_kernel.o -L/home/user01/anaconda3/envs/yolo5/lib/python3.6/site-packages/torch/lib -L/usr/local/cuda-10.1/lib64 -lc10 -ltorch -ltorch_cpu -ltorch_python -lcudart -lc10_cuda -ltorch_cuda -o build/lib.linux-x86_64-3.6/mish_cuda/_C.cpython-36m-x86_64-linux-gnu.so\n",
      "running install\n",
      "running bdist_egg\n",
      "installing library code to build/bdist.linux-x86_64/egg\n",
      "running install_lib\n",
      "creating build/bdist.linux-x86_64\n",
      "creating build/bdist.linux-x86_64/egg\n",
      "creating build/bdist.linux-x86_64/egg/mish_cuda\n",
      "copying build/lib.linux-x86_64-3.6/mish_cuda/__init__.py -> build/bdist.linux-x86_64/egg/mish_cuda\n",
      "copying build/lib.linux-x86_64-3.6/mish_cuda/_C.cpython-36m-x86_64-linux-gnu.so -> build/bdist.linux-x86_64/egg/mish_cuda\n",
      "byte-compiling build/bdist.linux-x86_64/egg/mish_cuda/__init__.py to __init__.cpython-36.pyc\n",
      "creating stub loader for mish_cuda/_C.cpython-36m-x86_64-linux-gnu.so\n",
      "byte-compiling build/bdist.linux-x86_64/egg/mish_cuda/_C.py to _C.cpython-36.pyc\n",
      "creating build/bdist.linux-x86_64/egg/EGG-INFO\n",
      "copying src/mish_cuda.egg-info/PKG-INFO -> build/bdist.linux-x86_64/egg/EGG-INFO\n",
      "copying src/mish_cuda.egg-info/SOURCES.txt -> build/bdist.linux-x86_64/egg/EGG-INFO\n",
      "copying src/mish_cuda.egg-info/dependency_links.txt -> build/bdist.linux-x86_64/egg/EGG-INFO\n",
      "copying src/mish_cuda.egg-info/not-zip-safe -> build/bdist.linux-x86_64/egg/EGG-INFO\n",
      "copying src/mish_cuda.egg-info/requires.txt -> build/bdist.linux-x86_64/egg/EGG-INFO\n",
      "copying src/mish_cuda.egg-info/top_level.txt -> build/bdist.linux-x86_64/egg/EGG-INFO\n",
      "writing build/bdist.linux-x86_64/egg/EGG-INFO/native_libs.txt\n",
      "creating dist\n",
      "creating 'dist/mish_cuda-0.0.3-py3.6-linux-x86_64.egg' and adding 'build/bdist.linux-x86_64/egg' to it\n",
      "removing 'build/bdist.linux-x86_64/egg' (and everything under it)\n",
      "Processing mish_cuda-0.0.3-py3.6-linux-x86_64.egg\n",
      "creating /home/user01/anaconda3/envs/yolo5/lib/python3.6/site-packages/mish_cuda-0.0.3-py3.6-linux-x86_64.egg\n",
      "Extracting mish_cuda-0.0.3-py3.6-linux-x86_64.egg to /home/user01/anaconda3/envs/yolo5/lib/python3.6/site-packages\n",
      "Adding mish-cuda 0.0.3 to easy-install.pth file\n",
      "\n",
      "Installed /home/user01/anaconda3/envs/yolo5/lib/python3.6/site-packages/mish_cuda-0.0.3-py3.6-linux-x86_64.egg\n",
      "Processing dependencies for mish-cuda==0.0.3\n",
      "Searching for torch==1.8.1\n",
      "Best match: torch 1.8.1\n",
      "Adding torch 1.8.1 to easy-install.pth file\n",
      "Installing convert-caffe2-to-onnx script to /home/user01/anaconda3/envs/yolo5/bin\n",
      "Installing convert-onnx-to-caffe2 script to /home/user01/anaconda3/envs/yolo5/bin\n",
      "\n",
      "Using /home/user01/anaconda3/envs/yolo5/lib/python3.6/site-packages\n",
      "Searching for dataclasses==0.8\n",
      "Best match: dataclasses 0.8\n",
      "Adding dataclasses 0.8 to easy-install.pth file\n",
      "\n",
      "Using /home/user01/anaconda3/envs/yolo5/lib/python3.6/site-packages\n",
      "Searching for typing-extensions==3.7.4.3\n",
      "Best match: typing-extensions 3.7.4.3\n",
      "Adding typing-extensions 3.7.4.3 to easy-install.pth file\n",
      "\n",
      "Using /home/user01/anaconda3/envs/yolo5/lib/python3.6/site-packages\n",
      "Searching for numpy==1.19.5\n",
      "Best match: numpy 1.19.5\n",
      "Adding numpy 1.19.5 to easy-install.pth file\n",
      "Installing f2py script to /home/user01/anaconda3/envs/yolo5/bin\n",
      "Installing f2py3 script to /home/user01/anaconda3/envs/yolo5/bin\n",
      "Installing f2py3.6 script to /home/user01/anaconda3/envs/yolo5/bin\n",
      "\n",
      "Using /home/user01/anaconda3/envs/yolo5/lib/python3.6/site-packages\n",
      "Finished processing dependencies for mish-cuda==0.0.3\n"
     ]
    }
   ],
   "source": [
    "%cd /home/user01/data_ssd/Talha/yolo/mish-cuda\n",
    "!python setup.py build install"
   ]
  },
  {
   "cell_type": "code",
   "execution_count": 6,
   "metadata": {},
   "outputs": [
    {
     "name": "stdout",
     "output_type": "stream",
     "text": [
      "Requirement already satisfied: PyYAML in /home/user01/anaconda3/envs/yolo5/lib/python3.6/site-packages (5.4.1)\n",
      "\u001b[33mWARNING: Keyring is skipped due to an exception: Failed to unlock the collection!\u001b[0m\n"
     ]
    }
   ],
   "source": [
    "!pip install -U PyYAML"
   ]
  }
 ],
 "metadata": {
  "kernelspec": {
   "display_name": "Python 3",
   "language": "python",
   "name": "python3"
  },
  "language_info": {
   "codemirror_mode": {
    "name": "ipython",
    "version": 3
   },
   "file_extension": ".py",
   "mimetype": "text/x-python",
   "name": "python",
   "nbconvert_exporter": "python",
   "pygments_lexer": "ipython3",
   "version": "3.6.9"
  }
 },
 "nbformat": 4,
 "nbformat_minor": 4
}
